import numpy as np
import pandas as pd 
import matplotlib.pyplot as plt





iris = pd.read_csv('iris.csv')
iris.sample(5)


iris['Species']=iris['Species'].replace({'Iris-setosa':0,'Iris-versicolor':1,'Iris-virginica':2})
iris.sample(5)


plt.scatter(iris['SepalLengthCm'],iris['PetalLengthCm'],c=iris['Species'],cmap='viridis',alpha=0.9) 
# cmap is use for change the color of color graph or giving theam example=winter,summer and more
#alpha is use for increasing or the opaticity of color it use b/w 0 to 1
plt.xlabel('Sepal Length')
plt.ylabel('Petal Length')
plt.colorbar()





# graph ka size kaise badaye
plt.figure(figsize=(15,7))
plt.scatter(iris['SepalLengthCm'],iris['PetalLengthCm'],c=iris['Species'],cmap='viridis',alpha=0.9) 
plt.xlabel('Sepal Length')
plt.ylabel('Petal Length')
plt.colorbar()





# Annotation use for giveing name of sacatter plot
batters = pd.read_csv('batter.csv')
batters.head()


batters.shape


sample_df = batters.head(100).sample(25,random_state=5)


sample_df


plt.figure(figsize=(15,7))

plt.scatter(sample_df['avg'],sample_df['strike_rate'],s=sample_df['runs'])

for i in range(sample_df.shape[0]):
    plt.text(sample_df['avg'].values[i],sample_df['strike_rate'].values[i],sample_df['batter'].values[i])


x = [1,2,3,4]
y= [5,6,7,8]
plt.scatter(x,y)
plt.text(1,5,'point 1')
plt.text(2,6,'point 2')
plt.text(3,7,'point 3')
plt.text(4,8,'point 4', fontdict={'size':12,'color':'red'})





plt.figure(figsize=(15,7))
plt.scatter(sample_df['avg'],sample_df['strike_rate'],s=sample_df['runs'])

plt.axhline(130,color='red')
plt.axvline(30,color='red')


for i in range(sample_df.shape[0]):
    plt.text(sample_df['avg'].values[i],sample_df['strike_rate'].values[i],sample_df['batter'].values[i])





# A diff way to plot graphs
batters.head()


plt.figure(figsize=(15,7))
plt.scatter(batters['avg'],batters['strike_rate'])
plt.title('Somthing')
plt.show()


fig, ax = plt.subplots(figsize=(15,6))

ax.scatter(batters['avg'],batters['strike_rate'])
ax.set_title('Something')
plt.xlabel('Avg')
plt.ylabel('Strike Rate')
plt.show()


# Drow two scatter plot
fig,ax = plt.subplots(nrows=2,ncols=1,sharex=True,figsize=(15,6))

ax[0].scatter(batters['avg'],batters['strike_rate'],color='red')
ax[1].scatter(batters['avg'],batters['runs'])

ax[0].set_title('Avg Vs Strike Rate')
ax[0].set_ylabel('Strike Rate')

ax[1].set_title('Avg Vs runs')
ax[1].set_ylabel('Runs')
ax[1].set_xlabel('Avg')

plt.show()


fig,ax = plt.subplots(nrows=2,ncols=2,figsize=(15,6))

ax[0,0].scatter(batters['avg'],batters['strike_rate'],color='red')
ax[0,1].scatter(batters['avg'],batters['runs'])
ax[1,0].hist(batters['avg'])
ax[1,1].hist(batters['runs'])



plt.show()


fig = plt.figure()

ax1 = fig.add_subplot(2,2,1) #(2,1,1 where 2 show rows, 1 show column and anothe 1 show graph)
ax1.scatter(batters['avg'],batters['strike_rate'],color='red')

ax2 = fig.add_subplot(2,2,2)
ax2.hist(batters['runs'])

ax3 = fig.add_subplot(2,2,3)
ax3.hist(batters['avg'])
plt.show()






fig = plt.figure(figsize=(15,6))


ax = plt.subplot(projection='3d')

ax.scatter3D(batters['runs'],batters['avg'],batters['strike_rate'],marker='+')
ax.set_title('IPL batsman analysis')
ax.set_xlabel('Runs')
ax.set_ylabel('avg')
ax.set_zlabel('SR')





x = [0,1,5,25]
y = [0,10,13,0]
z = [0,13,20,9]

fig = plt.figure()

ax = plt.subplot(projection='3d')

ax.scatter3D(x,y,z,s=[100,100,100,100])
ax.plot3D(x,y,z,color='red')






